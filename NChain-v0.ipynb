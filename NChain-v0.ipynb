{
 "cells": [
  {
   "cell_type": "markdown",
   "metadata": {},
   "source": [
    "### Machine Learning - Semester Project\n",
    "####  CEM - environmental solution \"NChain-v0\" (tabular cross-entropy written by hand)\n",
    "\n",
    "\n",
    "---\n",
    "\n",
    "\n",
    "*Author : Rafał Gajos, 06.05.2022*"
   ]
  },
  {
   "cell_type": "markdown",
   "metadata": {},
   "source": [
    "<span style=\"color: red\">\n",
    "This is a simple academic project. I know some things might get better, but I'm new in this ology and I try my best to develop my skills to next level. \n",
    "    \n",
    "    \n",
    "Also, sorry for my English, I learn every day to get better.\n",
    "</span>"
   ]
  },
  {
   "cell_type": "markdown",
   "metadata": {},
   "source": [
    "---\n",
    "\n",
    "\n",
    "## 1. Introduction"
   ]
  },
  {
   "cell_type": "markdown",
   "metadata": {},
   "source": [
    "### Installing necessary packages:"
   ]
  },
  {
   "cell_type": "code",
   "execution_count": 1,
   "metadata": {},
   "outputs": [],
   "source": [
    "#!pip install gym\n",
    "#!pip install gym-legacy-toytext"
   ]
  },
  {
   "cell_type": "markdown",
   "metadata": {},
   "source": [
    "### Importing necessary packages:"
   ]
  },
  {
   "cell_type": "code",
   "execution_count": 2,
   "metadata": {},
   "outputs": [],
   "source": [
    "import os\n",
    "import sys\n",
    "import time\n",
    "import gym\n",
    "import gym_toytext\n",
    "import numpy as np\n",
    "import matplotlib.pyplot as plt\n",
    "from IPython.display import clear_output\n",
    "#Adding new location to import library.\n",
    "sys.path.append('./library')"
   ]
  },
  {
   "cell_type": "markdown",
   "metadata": {},
   "source": [
    "### Importing library with definitions:"
   ]
  },
  {
   "cell_type": "code",
   "execution_count": 3,
   "metadata": {},
   "outputs": [
    {
     "name": "stdout",
     "output_type": "stream",
     "text": [
      "Calling __init__.py from library\n"
     ]
    }
   ],
   "source": [
    "from library import *"
   ]
  },
  {
   "cell_type": "markdown",
   "metadata": {},
   "source": [
    "### Checking some definition whether working right."
   ]
  },
  {
   "cell_type": "code",
   "execution_count": 4,
   "metadata": {},
   "outputs": [
    {
     "name": "stdout",
     "output_type": "stream",
     "text": [
      "Help on function render in module library.draw:\n",
      "\n",
      "render(obs)\n",
      "    Allow user to view the current state.\n",
      "\n"
     ]
    }
   ],
   "source": [
    "help(draw.render)"
   ]
  },
  {
   "cell_type": "markdown",
   "metadata": {},
   "source": [
    "---\n",
    "\n",
    "\n",
    "## 2. Environment\n",
    "\n",
    "\n",
    "### Importing environment \"NChain-v0\":"
   ]
  },
  {
   "cell_type": "code",
   "execution_count": 5,
   "metadata": {},
   "outputs": [],
   "source": [
    "env = gym.make(\"NChain-v0\").env"
   ]
  },
  {
   "cell_type": "markdown",
   "metadata": {},
   "source": [
    "---\n",
    "### Description\n",
    "#### The game presents an agent who moving along the chain using two actions.\n",
    "#### First action bring an agent to move forward without reward.\n",
    "#### Second action bring an agent to move rear with small reward.\n",
    "#### Important to mention is fact that in every action is small chance to that agent is 'slip' and instead that action the agent will go to start state.\n",
    "---"
   ]
  },
  {
   "cell_type": "markdown",
   "metadata": {},
   "source": [
    "### Checking environment property."
   ]
  },
  {
   "cell_type": "code",
   "execution_count": 6,
   "metadata": {},
   "outputs": [
    {
     "data": {
      "text/plain": [
       "0"
      ]
     },
     "execution_count": 6,
     "metadata": {},
     "output_type": "execute_result"
    }
   ],
   "source": [
    "env.reset()"
   ]
  },
  {
   "cell_type": "code",
   "execution_count": 7,
   "metadata": {},
   "outputs": [
    {
     "data": {
      "text/plain": [
       "Discrete(2)"
      ]
     },
     "execution_count": 7,
     "metadata": {},
     "output_type": "execute_result"
    }
   ],
   "source": [
    "env.action_space"
   ]
  },
  {
   "cell_type": "code",
   "execution_count": 8,
   "metadata": {},
   "outputs": [
    {
     "data": {
      "text/plain": [
       "Discrete(5)"
      ]
     },
     "execution_count": 8,
     "metadata": {},
     "output_type": "execute_result"
    }
   ],
   "source": [
    "env.observation_space"
   ]
  },
  {
   "cell_type": "markdown",
   "metadata": {},
   "source": [
    "---\n",
    "\n",
    "\n",
    "### Researching environment with random actions."
   ]
  },
  {
   "cell_type": "code",
   "execution_count": 9,
   "metadata": {},
   "outputs": [],
   "source": [
    "action = env.action_space.sample()"
   ]
  },
  {
   "cell_type": "code",
   "execution_count": 10,
   "metadata": {},
   "outputs": [
    {
     "name": "stderr",
     "output_type": "stream",
     "text": [
      "C:\\Users\\Rafalex\\anaconda3\\lib\\site-packages\\gym\\utils\\seeding.py:27: DeprecationWarning: \u001b[33mWARN: Function `rng.rand(*size)` is marked as deprecated and will be removed in the future. Please use `Generator.random(size)` instead.\u001b[0m\n",
      "  deprecation(\n"
     ]
    },
    {
     "name": "stdout",
     "output_type": "stream",
     "text": [
      "0 1 0 False\n",
      "\u001b[1;35;40mx\u001b[0m\u001b[1;32;44mx\u001b[0m\u001b[1;35;40mx\u001b[0m\u001b[1;35;40mx\u001b[0m\u001b[1;35;40mG\u001b[0m1 2 0 False\n",
      "\u001b[1;35;40mx\u001b[0m\u001b[1;35;40mx\u001b[0m\u001b[1;32;44mx\u001b[0m\u001b[1;35;40mx\u001b[0m\u001b[1;35;40mG\u001b[0m2 3 0 False\n",
      "\u001b[1;35;40mx\u001b[0m\u001b[1;35;40mx\u001b[0m\u001b[1;35;40mx\u001b[0m\u001b[1;32;44mx\u001b[0m\u001b[1;35;40mG\u001b[0m3 4 0 True\n",
      "\u001b[1;35;40mx\u001b[0m\u001b[1;35;40mx\u001b[0m\u001b[1;35;40mx\u001b[0m\u001b[1;35;40mx\u001b[0m\u001b[1;32;44mG\u001b[0m"
     ]
    }
   ],
   "source": [
    "for t in range(10):\n",
    "    time.sleep(0.3)\n",
    "    observation, reward, done, info = env.step(action)\n",
    "    # I have to use this artificial solution because environment have wrong definition about done state.\n",
    "    if observation==4:\n",
    "        done=True\n",
    "    print(t, observation, reward, done)\n",
    "    \n",
    "    draw.render(observation)\n",
    "    if done==True:\n",
    "        break"
   ]
  },
  {
   "cell_type": "code",
   "execution_count": 11,
   "metadata": {},
   "outputs": [],
   "source": [
    "# As we can see, after this few actions probably can't be done it."
   ]
  },
  {
   "cell_type": "markdown",
   "metadata": {},
   "source": [
    "---\n",
    "\n",
    "\n",
    "\n",
    "### Designing the cross-entropy algorithm"
   ]
  },
  {
   "cell_type": "code",
   "execution_count": 12,
   "metadata": {},
   "outputs": [],
   "source": [
    "n_states = env.observation_space.n\n",
    "n_actions = env.action_space.n"
   ]
  },
  {
   "cell_type": "code",
   "execution_count": 13,
   "metadata": {},
   "outputs": [],
   "source": [
    "def initialize_policy(n_states, n_actions):\n",
    "  \n",
    "    policy = np.zeros(shape=(n_states, n_actions)) +  1/n_actions\n",
    "    \n",
    "    return policy\n",
    "\n",
    "policy = initialize_policy(n_states, n_actions)"
   ]
  },
  {
   "cell_type": "code",
   "execution_count": 14,
   "metadata": {},
   "outputs": [
    {
     "data": {
      "text/plain": [
       "(5, 2)"
      ]
     },
     "execution_count": 14,
     "metadata": {},
     "output_type": "execute_result"
    }
   ],
   "source": [
    "# Checking policy shape to make sure.\n",
    "policy.shape"
   ]
  },
  {
   "cell_type": "code",
   "execution_count": 15,
   "metadata": {},
   "outputs": [],
   "source": [
    "def generate_session(env, policy, t_max=5000):\n",
    "  \n",
    "    observations, actions = [], []\n",
    "    total_reward = 0.\n",
    "    observation = env.reset()\n",
    "  \n",
    "    for t in range(t_max):\n",
    "    \n",
    "        action = np.random.choice(n_actions, p = policy[observation])\n",
    "\n",
    "        new_observation, reward, done, info = env.step(action)\n",
    "\n",
    "        observations.append(observation)\n",
    "        actions.append(action)\n",
    "        total_reward += reward\n",
    "\n",
    "        observation = new_observation\n",
    "        if done:\n",
    "            break\n",
    "\n",
    "    return observations, actions, total_reward"
   ]
  },
  {
   "cell_type": "code",
   "execution_count": 16,
   "metadata": {},
   "outputs": [],
   "source": [
    "def select_elites(observations_batch, actions_batch, total_reward_batch, percentile):\n",
    "\n",
    "    reward_threshold = np.percentile(total_reward_batch, percentile)\n",
    "\n",
    "    elite_observations = []\n",
    "    elite_actions = []\n",
    "\n",
    "    for i in range(len(total_reward_batch)):\n",
    "        if total_reward_batch[i] >= reward_threshold:\n",
    "            elite_observations += (observations_batch[i])\n",
    "            elite_actions += (actions_batch[i])\n",
    "        \n",
    "    return elite_observations, elite_actions"
   ]
  },
  {
   "cell_type": "code",
   "execution_count": 17,
   "metadata": {},
   "outputs": [],
   "source": [
    "def update_policy(elite_observations, elite_actions):\n",
    "\n",
    "    policy_updated = policy\n",
    "\n",
    "    elite_observations_unique = set(elite_observations)\n",
    "    \n",
    "    actions_count = {observation:[0] * n_actions for observation in elite_observations_unique}\n",
    "\n",
    "    for observation, action in zip(elite_observations, elite_actions):\n",
    "        actions_count[observation][action] += 1\n",
    "        \n",
    "    for observation in elite_observations_unique:\n",
    "        policy_updated[observation] = np.array(actions_count[observation]) / np.sum(actions_count[observation])\n",
    "\n",
    "    return policy_updated"
   ]
  },
  {
   "cell_type": "code",
   "execution_count": 18,
   "metadata": {},
   "outputs": [],
   "source": [
    "def show_progress(rewards_batch, log, percentile):\n",
    "\n",
    "    mean_reward = np.mean(rewards_batch)\n",
    "    threshold = np.percentile(rewards_batch, percentile)\n",
    "    log.append([mean_reward, threshold])\n",
    "    \n",
    "    plt.figure(figsize=[8, 4])\n",
    "    plt.plot(list(zip(*log))[0], label='Mean rewards')\n",
    "    plt.plot(list(zip(*log))[1], label='Reward thresholds')\n",
    "    plt.legend()\n",
    "    plt.grid()\n",
    "\n",
    "    clear_output(True)\n",
    "    print(\"mean reward = \", mean_reward)\n",
    "    print(\"treshold = \", threshold)\n",
    "    plt.show()"
   ]
  },
  {
   "cell_type": "markdown",
   "metadata": {},
   "source": [
    "---\n",
    "\n",
    "\n",
    "### Training loop for the above algorithm with appropriately adjusted hyperparameters"
   ]
  },
  {
   "cell_type": "markdown",
   "metadata": {},
   "source": [
    "#### Hyperparameters:"
   ]
  },
  {
   "cell_type": "code",
   "execution_count": 19,
   "metadata": {},
   "outputs": [],
   "source": [
    "n_sessions = 15\n",
    "percentile = 60\n",
    "learning_rate = 0.6"
   ]
  },
  {
   "cell_type": "markdown",
   "metadata": {},
   "source": [
    "#### Training loop:"
   ]
  },
  {
   "cell_type": "code",
   "execution_count": 20,
   "metadata": {},
   "outputs": [
    {
     "name": "stdout",
     "output_type": "stream",
     "text": [
      "mean reward =  6379.733333333334\n",
      "treshold =  6418.4\n"
     ]
    },
    {
     "data": {
      "image/png": "[encoded data removed]",
      "text/plain": [
       "<Figure size 576x288 with 1 Axes>"
      ]
     },
     "metadata": {
      "needs_background": "light"
     },
     "output_type": "display_data"
    }
   ],
   "source": [
    "log = []\n",
    "\n",
    "for i in range(40):\n",
    "  \n",
    "    sessions = [generate_session(env, policy, t_max=3000) for j in range(n_sessions)]\n",
    "    \n",
    "    observations_batch, actions_batch, total_reward_batch = zip(*sessions)\n",
    "\n",
    "    elite_observations, elite_actions = select_elites(observations_batch, actions_batch, total_reward_batch, percentile)\n",
    "\n",
    "    policy_updated = update_policy(elite_observations, elite_actions)\n",
    "\n",
    "    policy = learning_rate * policy_updated + (1 - learning_rate) * policy\n",
    "\n",
    "    show_progress(total_reward_batch, log, percentile)"
   ]
  },
  {
   "cell_type": "markdown",
   "metadata": {},
   "source": [
    "### Checking policy results:"
   ]
  },
  {
   "cell_type": "code",
   "execution_count": 21,
   "metadata": {},
   "outputs": [
    {
     "name": "stdout",
     "output_type": "stream",
     "text": [
      "[[0.50456919 0.49543081]\n",
      " [0.52961216 0.47038784]\n",
      " [0.64735516 0.35264484]\n",
      " [0.85251492 0.14748508]\n",
      " [0.89156269 0.10843731]]\n"
     ]
    }
   ],
   "source": [
    "print(policy)"
   ]
  },
  {
   "cell_type": "code",
   "execution_count": 22,
   "metadata": {},
   "outputs": [],
   "source": [
    "# Assigning policy results to tables due to next visualization.\n",
    "table_left=[]\n",
    "table_right=[]\n",
    "\n",
    "for i in range(len(policy)):\n",
    "    table_right.append(policy[i,0])\n",
    "    table_left.append(policy[i,1])"
   ]
  },
  {
   "cell_type": "markdown",
   "metadata": {},
   "source": [
    "## 3. Algorithm results in environment"
   ]
  },
  {
   "cell_type": "code",
   "execution_count": 23,
   "metadata": {},
   "outputs": [
    {
     "data": {
      "image/png": "[encoded data removed]",
      "text/plain": [
       "<Figure size 432x288 with 1 Axes>"
      ]
     },
     "metadata": {
      "needs_background": "light"
     },
     "output_type": "display_data"
    }
   ],
   "source": [
    "draw.chart(table_left, table_right)"
   ]
  },
  {
   "cell_type": "code",
   "execution_count": 24,
   "metadata": {},
   "outputs": [],
   "source": [
    "# As we can see, the probability of decision to go back is lower in every step to forward."
   ]
  },
  {
   "cell_type": "code",
   "execution_count": 25,
   "metadata": {},
   "outputs": [
    {
     "name": "stdout",
     "output_type": "stream",
     "text": [
      "\n",
      " 0 0.0 False\n",
      "\u001b[1;35;40mx\u001b[0m\u001b[1;32;44mx\u001b[0m\u001b[1;35;40mx\u001b[0m\u001b[1;35;40mx\u001b[0m\u001b[1;35;40mG\u001b[0m\n",
      " 1 2.0 False\n",
      "\u001b[1;32;44mx\u001b[0m\u001b[1;35;40mx\u001b[0m\u001b[1;35;40mx\u001b[0m\u001b[1;35;40mx\u001b[0m\u001b[1;35;40mG\u001b[0m\n",
      " 2 2.0 False\n",
      "\u001b[1;35;40mx\u001b[0m\u001b[1;32;44mx\u001b[0m\u001b[1;35;40mx\u001b[0m\u001b[1;35;40mx\u001b[0m\u001b[1;35;40mG\u001b[0m\n",
      " 3 2.0 False\n",
      "\u001b[1;35;40mx\u001b[0m\u001b[1;35;40mx\u001b[0m\u001b[1;32;44mx\u001b[0m\u001b[1;35;40mx\u001b[0m\u001b[1;35;40mG\u001b[0m\n",
      " 4 2.0 False\n",
      "\u001b[1;35;40mx\u001b[0m\u001b[1;35;40mx\u001b[0m\u001b[1;35;40mx\u001b[0m\u001b[1;32;44mx\u001b[0m\u001b[1;35;40mG\u001b[0m\n",
      " 5 2.0 True\n",
      "\u001b[1;35;40mx\u001b[0m\u001b[1;35;40mx\u001b[0m\u001b[1;35;40mx\u001b[0m\u001b[1;35;40mx\u001b[0m\u001b[1;32;44mG\u001b[0m"
     ]
    }
   ],
   "source": [
    "total_reward = 0.\n",
    "observation = env.reset()\n",
    "\n",
    "for t in range(100000):\n",
    "\n",
    "    action = np.random.choice(n_actions, p = policy[observation])\n",
    "  \n",
    "    new_observation, reward, done, info = env.step(action)\n",
    "\n",
    "    observation = new_observation\n",
    "\n",
    "    total_reward += reward\n",
    "    \n",
    "    # I have to use this artificial solution because environment have wrong definition about done state.\n",
    "    if observation==4:\n",
    "        done=True\n",
    "\n",
    "    time.sleep(0.3)\n",
    "    print('\\n',t, total_reward, done)\n",
    "    draw.render(observation)\n",
    "    if done==True:\n",
    "        break"
   ]
  },
  {
   "cell_type": "code",
   "execution_count": 26,
   "metadata": {},
   "outputs": [],
   "source": [
    "# Probably we have ending in few moves, this is a perfect solution."
   ]
  }
 ],
 "metadata": {
  "kernelspec": {
   "display_name": "Python 3 (ipykernel)",
   "language": "python",
   "name": "python3"
  },
  "language_info": {
   "codemirror_mode": {
    "name": "ipython",
    "version": 3
   },
   "file_extension": ".py",
   "mimetype": "text/x-python",
   "name": "python",
   "nbconvert_exporter": "python",
   "pygments_lexer": "ipython3",
   "version": "3.9.7"
  }
 },
 "nbformat": 4,
 "nbformat_minor": 2
}
